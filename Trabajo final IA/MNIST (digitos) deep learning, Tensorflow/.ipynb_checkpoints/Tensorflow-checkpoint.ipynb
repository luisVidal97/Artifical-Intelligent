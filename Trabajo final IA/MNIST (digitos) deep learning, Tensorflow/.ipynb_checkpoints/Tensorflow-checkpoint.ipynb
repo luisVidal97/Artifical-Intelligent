{
 "cells": [
  {
   "cell_type": "markdown",
   "metadata": {},
   "source": [
    "## Building Multilayer Models\n",
    "\n",
    "_Classification problem_\n",
    "\n",
    "Let's modify some parts of the last code in order to a feed-fordward network"
   ]
  },
  {
   "cell_type": "markdown",
   "metadata": {},
   "source": [
    "### Dataset MNIST"
   ]
  },
  {
   "cell_type": "code",
   "execution_count": 1,
   "metadata": {},
   "outputs": [
    {
     "name": "stdout",
     "output_type": "stream",
     "text": [
      "WARNING:tensorflow:From <ipython-input-1-79252d13122b>:5: read_data_sets (from tensorflow.contrib.learn.python.learn.datasets.mnist) is deprecated and will be removed in a future version.\n",
      "Instructions for updating:\n",
      "Please use alternatives such as official/mnist/dataset.py from tensorflow/models.\n",
      "WARNING:tensorflow:From D:\\Usuarios\\rhaps\\Anaconda3\\lib\\site-packages\\tensorflow\\contrib\\learn\\python\\learn\\datasets\\mnist.py:260: maybe_download (from tensorflow.contrib.learn.python.learn.datasets.base) is deprecated and will be removed in a future version.\n",
      "Instructions for updating:\n",
      "Please write your own downloading logic.\n",
      "WARNING:tensorflow:From D:\\Usuarios\\rhaps\\Anaconda3\\lib\\site-packages\\tensorflow\\contrib\\learn\\python\\learn\\datasets\\mnist.py:262: extract_images (from tensorflow.contrib.learn.python.learn.datasets.mnist) is deprecated and will be removed in a future version.\n",
      "Instructions for updating:\n",
      "Please use tf.data to implement this functionality.\n",
      "Extracting MNIST_data/train-images-idx3-ubyte.gz\n",
      "WARNING:tensorflow:From D:\\Usuarios\\rhaps\\Anaconda3\\lib\\site-packages\\tensorflow\\contrib\\learn\\python\\learn\\datasets\\mnist.py:267: extract_labels (from tensorflow.contrib.learn.python.learn.datasets.mnist) is deprecated and will be removed in a future version.\n",
      "Instructions for updating:\n",
      "Please use tf.data to implement this functionality.\n",
      "Extracting MNIST_data/train-labels-idx1-ubyte.gz\n",
      "WARNING:tensorflow:From D:\\Usuarios\\rhaps\\Anaconda3\\lib\\site-packages\\tensorflow\\contrib\\learn\\python\\learn\\datasets\\mnist.py:110: dense_to_one_hot (from tensorflow.contrib.learn.python.learn.datasets.mnist) is deprecated and will be removed in a future version.\n",
      "Instructions for updating:\n",
      "Please use tf.one_hot on tensors.\n",
      "Extracting MNIST_data/t10k-images-idx3-ubyte.gz\n",
      "Extracting MNIST_data/t10k-labels-idx1-ubyte.gz\n",
      "WARNING:tensorflow:From D:\\Usuarios\\rhaps\\Anaconda3\\lib\\site-packages\\tensorflow\\contrib\\learn\\python\\learn\\datasets\\mnist.py:290: DataSet.__init__ (from tensorflow.contrib.learn.python.learn.datasets.mnist) is deprecated and will be removed in a future version.\n",
      "Instructions for updating:\n",
      "Please use alternatives such as official/mnist/dataset.py from tensorflow/models.\n"
     ]
    }
   ],
   "source": [
    "import tensorflow as tf\n",
    "from tensorflow.examples.tutorials.mnist import input_data\n",
    "\n",
    "# Read data\n",
    "mnist = input_data.read_data_sets(\"MNIST_data/\", one_hot=True)"
   ]
  },
  {
   "cell_type": "code",
   "execution_count": 2,
   "metadata": {},
   "outputs": [],
   "source": [
    "def layer(input, weigth_shape, bias_shape):\n",
    "    w_init = tf.random_normal_initializer(stddev= (2.0/weigth_shape[0]) ** 0.5)\n",
    "    bias_init = tf.constant_initializer(value=0)\n",
    "    W = tf.get_variable(\"W\", weigth_shape, initializer = w_init)\n",
    "    b = tf.get_variable(\"b\", bias_shape, initializer = bias_init)\n",
    "    return tf.nn.relu(tf.matmul(input, W) + b)"
   ]
  },
  {
   "cell_type": "code",
   "execution_count": 3,
   "metadata": {},
   "outputs": [],
   "source": [
    "def inference(x):     \n",
    "    with tf.variable_scope(\"hidden_1\"):\n",
    "        hidden_1 = layer(x , [784, 256], [256])\n",
    "    with tf.variable_scope(\"hidden_2\"):\n",
    "        hidden_2 = layer(hidden_1, [256, 256], [256])\n",
    "    with tf.variable_scope(\"output\"):\n",
    "        output = layer(hidden_2, [256, 10], [10])\n",
    "    return output"
   ]
  },
  {
   "cell_type": "code",
   "execution_count": 4,
   "metadata": {},
   "outputs": [],
   "source": [
    "def loss(output, y):\n",
    "    xentropy = tf.nn.softmax_cross_entropy_with_logits_v2(logits=output, labels=y)\n",
    "    loss = tf.reduce_mean(xentropy)\n",
    "    return loss"
   ]
  },
  {
   "cell_type": "markdown",
   "metadata": {},
   "source": [
    "We are going to use some of the methods proposed for the logistic regression approach."
   ]
  },
  {
   "cell_type": "code",
   "execution_count": 5,
   "metadata": {},
   "outputs": [],
   "source": [
    "def evaluate(output, y):\n",
    "    correct_prediction = tf.equal(tf.argmax(output, 1), tf.argmax(y, 1))\n",
    "    accuracy = tf.reduce_mean(tf.cast(correct_prediction, tf.float32))\n",
    "    tf.summary.scalar(\"validation\", accuracy)\n",
    "    return accuracy"
   ]
  },
  {
   "cell_type": "code",
   "execution_count": 6,
   "metadata": {},
   "outputs": [],
   "source": [
    "def training(cost, global_step):\n",
    "    tf.summary.scalar(\"cost\", cost)\n",
    "    optimizer = tf.train.GradientDescentOptimizer(learning_rate)\n",
    "    train_op = optimizer.minimize(cost, global_step=global_step)\n",
    "    return train_op"
   ]
  },
  {
   "cell_type": "code",
   "execution_count": 7,
   "metadata": {},
   "outputs": [
    {
     "name": "stdout",
     "output_type": "stream",
     "text": [
      "WARNING:tensorflow:From D:\\Usuarios\\rhaps\\Anaconda3\\lib\\site-packages\\tensorflow\\python\\framework\\op_def_library.py:263: colocate_with (from tensorflow.python.framework.ops) is deprecated and will be removed in a future version.\n",
      "Instructions for updating:\n",
      "Colocations handled automatically by placer.\n",
      "Validation Error: 0.1194000244140625\n",
      "Validation Error: 0.061399996280670166\n",
      "Validation Error: 0.046000003814697266\n",
      "Validation Error: 0.03880000114440918\n",
      "Validation Error: 0.03280001878738403\n",
      "Validation Error: 0.02920001745223999\n",
      "WARNING:tensorflow:From D:\\Usuarios\\rhaps\\Anaconda3\\lib\\site-packages\\tensorflow\\python\\training\\saver.py:966: remove_checkpoint (from tensorflow.python.training.checkpoint_management) is deprecated and will be removed in a future version.\n",
      "Instructions for updating:\n",
      "Use standard file APIs to delete files with this prefix.\n",
      "Validation Error: 0.026600003242492676\n",
      "Validation Error: 0.02640002965927124\n",
      "Validation Error: 0.024399995803833008\n",
      "Validation Error: 0.024200022220611572\n",
      "Validation Error: 0.022800028324127197\n",
      "Validation Error: 0.022800028324127197\n",
      "Validation Error: 0.02240002155303955\n",
      "Validation Error: 0.021399974822998047\n",
      "Validation Error: 0.02219998836517334\n",
      "Validation Error: 0.02120000123977661\n",
      "Validation Error: 0.021399974822998047\n",
      "Validation Error: 0.020200014114379883\n",
      "Validation Error: 0.019599974155426025\n",
      "Validation Error: 0.019599974155426025\n",
      "Validation Error: 0.019599974155426025\n",
      "Validation Error: 0.018599987030029297\n",
      "Validation Error: 0.018800020217895508\n",
      "Validation Error: 0.018999993801116943\n",
      "Validation Error: 0.018800020217895508\n",
      "Validation Error: 0.01940000057220459\n",
      "Validation Error: 0.018800020217895508\n",
      "Validation Error: 0.018599987030029297\n",
      "Validation Error: 0.01840001344680786\n",
      "Validation Error: 0.01840001344680786\n",
      "Validation Error: 0.018800020217895508\n",
      "Validation Error: 0.018800020217895508\n",
      "Validation Error: 0.018599987030029297\n",
      "Validation Error: 0.018599987030029297\n",
      "Validation Error: 0.018999993801116943\n",
      "Validation Error: 0.01840001344680786\n",
      "Validation Error: 0.01819998025894165\n",
      "Validation Error: 0.018999993801116943\n",
      "Validation Error: 0.018999993801116943\n",
      "Validation Error: 0.018000006675720215\n",
      "Validation Error: 0.018800020217895508\n",
      "Validation Error: 0.018800020217895508\n",
      "Validation Error: 0.018000006675720215\n",
      "Validation Error: 0.01759999990463257\n",
      "Validation Error: 0.01819998025894165\n",
      "Validation Error: 0.01840001344680786\n",
      "Validation Error: 0.01819998025894165\n",
      "Validation Error: 0.017799973487854004\n",
      "Validation Error: 0.01819998025894165\n",
      "Validation Error: 0.017799973487854004\n",
      "Validation Error: 0.018000006675720215\n",
      "Validation Error: 0.01840001344680786\n",
      "Validation Error: 0.01819998025894165\n",
      "Validation Error: 0.01840001344680786\n",
      "Validation Error: 0.018599987030029297\n",
      "Validation Error: 0.01759999990463257\n",
      "Validation Error: 0.01819998025894165\n",
      "Validation Error: 0.018000006675720215\n",
      "Validation Error: 0.018000006675720215\n",
      "Validation Error: 0.018000006675720215\n",
      "Optimization Finished!\n",
      "Test Accuracy: 0.9796\n"
     ]
    }
   ],
   "source": [
    "import tensorflow as tf\n",
    "# Parameters\n",
    "\n",
    "learning_rate = 0.01\n",
    "training_epochs = 300\n",
    "batch_size = 100\n",
    "display_step = 5\n",
    "train_losses, test_losses = [], []\n",
    "\n",
    "\n",
    "with tf.Graph().as_default():\n",
    "    # mnist data image of shape 28*28=784\n",
    "    x = tf.placeholder(tf.float32, [None, 784])    \n",
    "    # 0-9 digits recognition => 10 classes\n",
    "    y = tf.placeholder(tf.float32, [None, 10])    \n",
    "    output = inference(x)    \n",
    "    cost = loss(output, y) \n",
    "    \n",
    "    global_step = tf.Variable(0, name='global_step', trainable=False)    \n",
    "    train_op = training(cost, global_step)    \n",
    "    eval_op = evaluate(output, y)\n",
    "    \n",
    "    summary_op = tf.summary.merge_all()    \n",
    "    saver = tf.train.Saver()\n",
    "    \n",
    "    sess = tf.Session()    \n",
    "    summary_writer = tf.summary.FileWriter(\"mnist_logs/\", graph=sess.graph)\n",
    "    \n",
    "    init_op = tf.global_variables_initializer()    \n",
    "    sess.run(init_op)\n",
    "    \n",
    "    # Training cycle\n",
    "    for epoch in range(training_epochs):\n",
    "        avg_cost = 0.\n",
    "        total_batch = int(mnist.train.num_examples/batch_size)\n",
    "        # Loop over all batches\n",
    "        for i in range(total_batch):\n",
    "            mbatch_x, mbatch_y = mnist.train.next_batch(batch_size)\n",
    "            # Fit training using batch data\n",
    "            feed_dict = {x : mbatch_x, y : mbatch_y}\n",
    "            sess.run(train_op, feed_dict=feed_dict)\n",
    "            # Compute average loss\n",
    "            minibatch_cost = sess.run(cost, feed_dict=feed_dict)\n",
    "            avg_cost += minibatch_cost/total_batch\n",
    "            \n",
    "        # Display logs per epoch step\n",
    "        if epoch % display_step == 0:\n",
    "            val_feed_dict = {\n",
    "                x : mnist.validation.images,\n",
    "                y : mnist.validation.labels\n",
    "            }\n",
    "            accuracy = sess.run(eval_op, feed_dict=val_feed_dict)\n",
    "            print (\"Validation Error:\", (1 - accuracy))\n",
    "            train_losses.append(1 - accuracy)\n",
    "            summary_str = sess.run(summary_op, feed_dict=feed_dict)\n",
    "            summary_writer.add_summary(summary_str, sess.run(global_step))\n",
    "            \n",
    "            saver.save(sess, \"mnist_logs/model-checkpoint\", global_step=global_step)\n",
    "            \n",
    "    print(\"Optimization Finished!\")\n",
    "    \n",
    "    test_feed_dict = {\n",
    "        x : mnist.test.images,\n",
    "        y : mnist.test.labels\n",
    "    }\n",
    "    accuracy = sess.run(eval_op, feed_dict=test_feed_dict)\n",
    "    #writer = tf.summary.FileWriter(\"logistic_logs3/\", graph=sess.graph)\n",
    "    #writer.add_graph(tf.get_default_graph())\n",
    "    print(\"Test Accuracy:\", accuracy)"
   ]
  },
  {
   "cell_type": "code",
   "execution_count": 63,
   "metadata": {},
   "outputs": [],
   "source": [
    "def evaluate(output, y):\n",
    "    correct_prediction = tf.equal(tf.argmax(output, 1), tf.argmax(y, 1))\n",
    "    accuracy = tf.reduce_mean(tf.cast(correct_prediction, tf.float32))\n",
    "    tf.summary.scalar(\"validation\", accuracy)\n",
    "    return accuracy"
   ]
  },
  {
   "cell_type": "code",
   "execution_count": 59,
   "metadata": {},
   "outputs": [],
   "source": [
    "def training(cost, global_step):\n",
    "    tf.summary.scalar(\"cost\", cost)\n",
    "    optimizer = tf.train.AdamOptimizer(learning_rate)\n",
    "    train_op = optimizer.minimize(cost, global_step=global_step)\n",
    "    return train_op"
   ]
  }
 ],
 "metadata": {
  "kernelspec": {
   "display_name": "Python 3",
   "language": "python",
   "name": "python3"
  },
  "language_info": {
   "codemirror_mode": {
    "name": "ipython",
    "version": 3
   },
   "file_extension": ".py",
   "mimetype": "text/x-python",
   "name": "python",
   "nbconvert_exporter": "python",
   "pygments_lexer": "ipython3",
   "version": "3.6.5"
  }
 },
 "nbformat": 4,
 "nbformat_minor": 2
}
